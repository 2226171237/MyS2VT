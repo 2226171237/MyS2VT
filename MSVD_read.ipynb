{
 "cells": [
  {
   "cell_type": "code",
   "execution_count": 1,
   "metadata": {
    "pycharm": {
     "is_executing": false
    }
   },
   "outputs": [],
   "source": [
    "import pandas as pd"
   ]
  },
  {
   "cell_type": "code",
   "execution_count": 2,
   "metadata": {
    "pycharm": {
     "is_executing": false
    }
   },
   "outputs": [
    {
     "data": {
      "text/plain": "       VideoID  Start  End  WorkerID      Source  AnnotationTime    Language  \\\n0  mv89psg6zh4     33   46    588702  unverified              55     Slovene   \n1  mv89psg6zh4     33   46    588702  unverified              37     Slovene   \n2  mv89psg6zh4     33   46    362812  unverified              11  Macedonian   \n3  mv89psg6zh4     33   46    968828  unverified              84      German   \n4  mv89psg6zh4     33   46    203142  unverified              14    Romanian   \n\n                                        Description  \n0        Papagaj se umiva pod tekočo vodo v lijaku.  \n1        Papagaj se umiva pod tekočo vodo v lijaku.  \n2                                   папагал се бања  \n3  Ein Wellensittich duscht unter einem Wasserhahn.  \n4                     o pasare sta intr-o chiuveta.  ",
      "text/html": "<div>\n<style scoped>\n    .dataframe tbody tr th:only-of-type {\n        vertical-align: middle;\n    }\n\n    .dataframe tbody tr th {\n        vertical-align: top;\n    }\n\n    .dataframe thead th {\n        text-align: right;\n    }\n</style>\n<table border=\"1\" class=\"dataframe\">\n  <thead>\n    <tr style=\"text-align: right;\">\n      <th></th>\n      <th>VideoID</th>\n      <th>Start</th>\n      <th>End</th>\n      <th>WorkerID</th>\n      <th>Source</th>\n      <th>AnnotationTime</th>\n      <th>Language</th>\n      <th>Description</th>\n    </tr>\n  </thead>\n  <tbody>\n    <tr>\n      <th>0</th>\n      <td>mv89psg6zh4</td>\n      <td>33</td>\n      <td>46</td>\n      <td>588702</td>\n      <td>unverified</td>\n      <td>55</td>\n      <td>Slovene</td>\n      <td>Papagaj se umiva pod tekočo vodo v lijaku.</td>\n    </tr>\n    <tr>\n      <th>1</th>\n      <td>mv89psg6zh4</td>\n      <td>33</td>\n      <td>46</td>\n      <td>588702</td>\n      <td>unverified</td>\n      <td>37</td>\n      <td>Slovene</td>\n      <td>Papagaj se umiva pod tekočo vodo v lijaku.</td>\n    </tr>\n    <tr>\n      <th>2</th>\n      <td>mv89psg6zh4</td>\n      <td>33</td>\n      <td>46</td>\n      <td>362812</td>\n      <td>unverified</td>\n      <td>11</td>\n      <td>Macedonian</td>\n      <td>папагал се бања</td>\n    </tr>\n    <tr>\n      <th>3</th>\n      <td>mv89psg6zh4</td>\n      <td>33</td>\n      <td>46</td>\n      <td>968828</td>\n      <td>unverified</td>\n      <td>84</td>\n      <td>German</td>\n      <td>Ein Wellensittich duscht unter einem Wasserhahn.</td>\n    </tr>\n    <tr>\n      <th>4</th>\n      <td>mv89psg6zh4</td>\n      <td>33</td>\n      <td>46</td>\n      <td>203142</td>\n      <td>unverified</td>\n      <td>14</td>\n      <td>Romanian</td>\n      <td>o pasare sta intr-o chiuveta.</td>\n    </tr>\n  </tbody>\n</table>\n</div>"
     },
     "metadata": {},
     "output_type": "execute_result",
     "execution_count": 2
    }
   ],
   "source": [
    "MSVDCaption=pd.read_csv('./MSR_Video_Description_Corpus.csv')\n",
    "MSVDCaption.head()"
   ]
  },
  {
   "cell_type": "markdown",
   "metadata": {},
   "source": [
    "# 只获取英文描述"
   ]
  },
  {
   "cell_type": "code",
   "execution_count": 3,
   "metadata": {
    "pycharm": {
     "is_executing": false
    }
   },
   "outputs": [
    {
     "data": {
      "text/plain": "        VideoID  Start  End  WorkerID Source  AnnotationTime Language  \\\n18  mv89psg6zh4     33   46    682611  clean              66  English   \n19  mv89psg6zh4     33   46    760882  clean              16  English   \n20  mv89psg6zh4     33   46    878566  clean              76  English   \n21  mv89psg6zh4     33   46    707318  clean              14  English   \n22  mv89psg6zh4     33   46    135621  clean              58  English   \n\n                                          Description  \n18  A bird in a sink keeps getting under the runni...  \n19                       A bird is bathing in a sink.  \n20  A bird is splashing around under a running fau...  \n21                       A bird is bathing in a sink.  \n22  A bird is standing in a sink drinking water th...  ",
      "text/html": "<div>\n<style scoped>\n    .dataframe tbody tr th:only-of-type {\n        vertical-align: middle;\n    }\n\n    .dataframe tbody tr th {\n        vertical-align: top;\n    }\n\n    .dataframe thead th {\n        text-align: right;\n    }\n</style>\n<table border=\"1\" class=\"dataframe\">\n  <thead>\n    <tr style=\"text-align: right;\">\n      <th></th>\n      <th>VideoID</th>\n      <th>Start</th>\n      <th>End</th>\n      <th>WorkerID</th>\n      <th>Source</th>\n      <th>AnnotationTime</th>\n      <th>Language</th>\n      <th>Description</th>\n    </tr>\n  </thead>\n  <tbody>\n    <tr>\n      <th>18</th>\n      <td>mv89psg6zh4</td>\n      <td>33</td>\n      <td>46</td>\n      <td>682611</td>\n      <td>clean</td>\n      <td>66</td>\n      <td>English</td>\n      <td>A bird in a sink keeps getting under the runni...</td>\n    </tr>\n    <tr>\n      <th>19</th>\n      <td>mv89psg6zh4</td>\n      <td>33</td>\n      <td>46</td>\n      <td>760882</td>\n      <td>clean</td>\n      <td>16</td>\n      <td>English</td>\n      <td>A bird is bathing in a sink.</td>\n    </tr>\n    <tr>\n      <th>20</th>\n      <td>mv89psg6zh4</td>\n      <td>33</td>\n      <td>46</td>\n      <td>878566</td>\n      <td>clean</td>\n      <td>76</td>\n      <td>English</td>\n      <td>A bird is splashing around under a running fau...</td>\n    </tr>\n    <tr>\n      <th>21</th>\n      <td>mv89psg6zh4</td>\n      <td>33</td>\n      <td>46</td>\n      <td>707318</td>\n      <td>clean</td>\n      <td>14</td>\n      <td>English</td>\n      <td>A bird is bathing in a sink.</td>\n    </tr>\n    <tr>\n      <th>22</th>\n      <td>mv89psg6zh4</td>\n      <td>33</td>\n      <td>46</td>\n      <td>135621</td>\n      <td>clean</td>\n      <td>58</td>\n      <td>English</td>\n      <td>A bird is standing in a sink drinking water th...</td>\n    </tr>\n  </tbody>\n</table>\n</div>"
     },
     "metadata": {},
     "output_type": "execute_result",
     "execution_count": 3
    }
   ],
   "source": [
    "MSVDCaption=MSVDCaption[MSVDCaption['Language']=='English']\n",
    "MSVDCaption.head()"
   ]
  },
  {
   "cell_type": "markdown",
   "metadata": {},
   "source": [
    "# 添加视频名"
   ]
  },
  {
   "cell_type": "code",
   "execution_count": 4,
   "metadata": {
    "pycharm": {
     "is_executing": false
    }
   },
   "outputs": [
    {
     "data": {
      "text/plain": "        VideoID  Start  End  WorkerID Source  AnnotationTime Language  \\\n18  mv89psg6zh4     33   46    682611  clean              66  English   \n19  mv89psg6zh4     33   46    760882  clean              16  English   \n20  mv89psg6zh4     33   46    878566  clean              76  English   \n21  mv89psg6zh4     33   46    707318  clean              14  English   \n22  mv89psg6zh4     33   46    135621  clean              58  English   \n\n                                          Description             Video_path  \n18  A bird in a sink keeps getting under the runni...  mv89psg6zh4_33_46.avi  \n19                       A bird is bathing in a sink.  mv89psg6zh4_33_46.avi  \n20  A bird is splashing around under a running fau...  mv89psg6zh4_33_46.avi  \n21                       A bird is bathing in a sink.  mv89psg6zh4_33_46.avi  \n22  A bird is standing in a sink drinking water th...  mv89psg6zh4_33_46.avi  ",
      "text/html": "<div>\n<style scoped>\n    .dataframe tbody tr th:only-of-type {\n        vertical-align: middle;\n    }\n\n    .dataframe tbody tr th {\n        vertical-align: top;\n    }\n\n    .dataframe thead th {\n        text-align: right;\n    }\n</style>\n<table border=\"1\" class=\"dataframe\">\n  <thead>\n    <tr style=\"text-align: right;\">\n      <th></th>\n      <th>VideoID</th>\n      <th>Start</th>\n      <th>End</th>\n      <th>WorkerID</th>\n      <th>Source</th>\n      <th>AnnotationTime</th>\n      <th>Language</th>\n      <th>Description</th>\n      <th>Video_path</th>\n    </tr>\n  </thead>\n  <tbody>\n    <tr>\n      <th>18</th>\n      <td>mv89psg6zh4</td>\n      <td>33</td>\n      <td>46</td>\n      <td>682611</td>\n      <td>clean</td>\n      <td>66</td>\n      <td>English</td>\n      <td>A bird in a sink keeps getting under the runni...</td>\n      <td>mv89psg6zh4_33_46.avi</td>\n    </tr>\n    <tr>\n      <th>19</th>\n      <td>mv89psg6zh4</td>\n      <td>33</td>\n      <td>46</td>\n      <td>760882</td>\n      <td>clean</td>\n      <td>16</td>\n      <td>English</td>\n      <td>A bird is bathing in a sink.</td>\n      <td>mv89psg6zh4_33_46.avi</td>\n    </tr>\n    <tr>\n      <th>20</th>\n      <td>mv89psg6zh4</td>\n      <td>33</td>\n      <td>46</td>\n      <td>878566</td>\n      <td>clean</td>\n      <td>76</td>\n      <td>English</td>\n      <td>A bird is splashing around under a running fau...</td>\n      <td>mv89psg6zh4_33_46.avi</td>\n    </tr>\n    <tr>\n      <th>21</th>\n      <td>mv89psg6zh4</td>\n      <td>33</td>\n      <td>46</td>\n      <td>707318</td>\n      <td>clean</td>\n      <td>14</td>\n      <td>English</td>\n      <td>A bird is bathing in a sink.</td>\n      <td>mv89psg6zh4_33_46.avi</td>\n    </tr>\n    <tr>\n      <th>22</th>\n      <td>mv89psg6zh4</td>\n      <td>33</td>\n      <td>46</td>\n      <td>135621</td>\n      <td>clean</td>\n      <td>58</td>\n      <td>English</td>\n      <td>A bird is standing in a sink drinking water th...</td>\n      <td>mv89psg6zh4_33_46.avi</td>\n    </tr>\n  </tbody>\n</table>\n</div>"
     },
     "metadata": {},
     "output_type": "execute_result",
     "execution_count": 4
    }
   ],
   "source": [
    "MSVDCaption['Video_path']=MSVDCaption.apply(lambda row: row['VideoID']+'_'+str(row['Start'])+'_'+str(row['End'])+'.avi',axis=1)\n",
    "MSVDCaption.head()"
   ]
  },
  {
   "cell_type": "markdown",
   "metadata": {},
   "source": [
    "# 每个视频所具有的描述数量"
   ]
  },
  {
   "cell_type": "code",
   "execution_count": 5,
   "metadata": {
    "pycharm": {
     "is_executing": false
    }
   },
   "outputs": [],
   "source": [
    "MSVDCaption.dropna(axis=1,inplace=True,how='all')\n",
    "cols=list(MSVDCaption.columns)\n",
    "cols.append('CaptionNums')\n",
    "MSVDCaption=pd.merge(MSVDCaption,MSVDCaption.groupby('VideoID').count().iloc[:,0],on='VideoID',how='left')\n",
    "MSVDCaption.columns=pd.Index(cols)"
   ]
  },
  {
   "cell_type": "code",
   "execution_count": 6,
   "metadata": {
    "pycharm": {
     "is_executing": false
    }
   },
   "outputs": [
    {
     "data": {
      "text/plain": "       VideoID  Start  End  WorkerID Source  AnnotationTime Language  \\\n0  mv89psg6zh4     33   46    682611  clean              66  English   \n1  mv89psg6zh4     33   46    760882  clean              16  English   \n2  mv89psg6zh4     33   46    878566  clean              76  English   \n3  mv89psg6zh4     33   46    707318  clean              14  English   \n4  mv89psg6zh4     33   46    135621  clean              58  English   \n\n                                         Description             Video_path  \\\n0  A bird in a sink keeps getting under the runni...  mv89psg6zh4_33_46.avi   \n1                       A bird is bathing in a sink.  mv89psg6zh4_33_46.avi   \n2  A bird is splashing around under a running fau...  mv89psg6zh4_33_46.avi   \n3                       A bird is bathing in a sink.  mv89psg6zh4_33_46.avi   \n4  A bird is standing in a sink drinking water th...  mv89psg6zh4_33_46.avi   \n\n   CaptionNums  \n0           29  \n1           29  \n2           29  \n3           29  \n4           29  ",
      "text/html": "<div>\n<style scoped>\n    .dataframe tbody tr th:only-of-type {\n        vertical-align: middle;\n    }\n\n    .dataframe tbody tr th {\n        vertical-align: top;\n    }\n\n    .dataframe thead th {\n        text-align: right;\n    }\n</style>\n<table border=\"1\" class=\"dataframe\">\n  <thead>\n    <tr style=\"text-align: right;\">\n      <th></th>\n      <th>VideoID</th>\n      <th>Start</th>\n      <th>End</th>\n      <th>WorkerID</th>\n      <th>Source</th>\n      <th>AnnotationTime</th>\n      <th>Language</th>\n      <th>Description</th>\n      <th>Video_path</th>\n      <th>CaptionNums</th>\n    </tr>\n  </thead>\n  <tbody>\n    <tr>\n      <th>0</th>\n      <td>mv89psg6zh4</td>\n      <td>33</td>\n      <td>46</td>\n      <td>682611</td>\n      <td>clean</td>\n      <td>66</td>\n      <td>English</td>\n      <td>A bird in a sink keeps getting under the runni...</td>\n      <td>mv89psg6zh4_33_46.avi</td>\n      <td>29</td>\n    </tr>\n    <tr>\n      <th>1</th>\n      <td>mv89psg6zh4</td>\n      <td>33</td>\n      <td>46</td>\n      <td>760882</td>\n      <td>clean</td>\n      <td>16</td>\n      <td>English</td>\n      <td>A bird is bathing in a sink.</td>\n      <td>mv89psg6zh4_33_46.avi</td>\n      <td>29</td>\n    </tr>\n    <tr>\n      <th>2</th>\n      <td>mv89psg6zh4</td>\n      <td>33</td>\n      <td>46</td>\n      <td>878566</td>\n      <td>clean</td>\n      <td>76</td>\n      <td>English</td>\n      <td>A bird is splashing around under a running fau...</td>\n      <td>mv89psg6zh4_33_46.avi</td>\n      <td>29</td>\n    </tr>\n    <tr>\n      <th>3</th>\n      <td>mv89psg6zh4</td>\n      <td>33</td>\n      <td>46</td>\n      <td>707318</td>\n      <td>clean</td>\n      <td>14</td>\n      <td>English</td>\n      <td>A bird is bathing in a sink.</td>\n      <td>mv89psg6zh4_33_46.avi</td>\n      <td>29</td>\n    </tr>\n    <tr>\n      <th>4</th>\n      <td>mv89psg6zh4</td>\n      <td>33</td>\n      <td>46</td>\n      <td>135621</td>\n      <td>clean</td>\n      <td>58</td>\n      <td>English</td>\n      <td>A bird is standing in a sink drinking water th...</td>\n      <td>mv89psg6zh4_33_46.avi</td>\n      <td>29</td>\n    </tr>\n  </tbody>\n</table>\n</div>"
     },
     "metadata": {},
     "output_type": "execute_result",
     "execution_count": 6
    }
   ],
   "source": [
    "MSVDCaption.head()"
   ]
  },
  {
   "cell_type": "markdown",
   "metadata": {},
   "source": [
    "# 检查是否含有空置，并将相应的记录删除"
   ]
  },
  {
   "cell_type": "code",
   "execution_count": 7,
   "metadata": {
    "pycharm": {
     "is_executing": false
    }
   },
   "outputs": [
    {
     "data": {
      "text/plain": "VideoID           False\nStart             False\nEnd               False\nWorkerID          False\nSource            False\nAnnotationTime    False\nLanguage          False\nDescription        True\nVideo_path        False\nCaptionNums       False\ndtype: bool"
     },
     "metadata": {},
     "output_type": "execute_result",
     "execution_count": 7
    }
   ],
   "source": [
    "MSVDCaption.isnull().any()"
   ]
  },
  {
   "cell_type": "code",
   "execution_count": 8,
   "metadata": {
    "pycharm": {
     "is_executing": false
    }
   },
   "outputs": [
    {
     "data": {
      "text/plain": "           VideoID  Start  End  WorkerID      Source  AnnotationTime Language  \\\n49833  SKhmFSV-XB0     12   18    707318  unverified              20  English   \n\n      Description             Video_path  CaptionNums  \n49833         NaN  SKhmFSV-XB0_12_18.avi           18  ",
      "text/html": "<div>\n<style scoped>\n    .dataframe tbody tr th:only-of-type {\n        vertical-align: middle;\n    }\n\n    .dataframe tbody tr th {\n        vertical-align: top;\n    }\n\n    .dataframe thead th {\n        text-align: right;\n    }\n</style>\n<table border=\"1\" class=\"dataframe\">\n  <thead>\n    <tr style=\"text-align: right;\">\n      <th></th>\n      <th>VideoID</th>\n      <th>Start</th>\n      <th>End</th>\n      <th>WorkerID</th>\n      <th>Source</th>\n      <th>AnnotationTime</th>\n      <th>Language</th>\n      <th>Description</th>\n      <th>Video_path</th>\n      <th>CaptionNums</th>\n    </tr>\n  </thead>\n  <tbody>\n    <tr>\n      <th>49833</th>\n      <td>SKhmFSV-XB0</td>\n      <td>12</td>\n      <td>18</td>\n      <td>707318</td>\n      <td>unverified</td>\n      <td>20</td>\n      <td>English</td>\n      <td>NaN</td>\n      <td>SKhmFSV-XB0_12_18.avi</td>\n      <td>18</td>\n    </tr>\n  </tbody>\n</table>\n</div>"
     },
     "metadata": {},
     "output_type": "execute_result",
     "execution_count": 8
    }
   ],
   "source": [
    "MSVDCaption[MSVDCaption['Description'].isna()]"
   ]
  },
  {
   "cell_type": "code",
   "execution_count": 9,
   "metadata": {
    "pycharm": {
     "is_executing": false
    }
   },
   "outputs": [
    {
     "data": {
      "text/plain": "VideoID           False\nStart             False\nEnd               False\nWorkerID          False\nSource            False\nAnnotationTime    False\nLanguage          False\nDescription       False\nVideo_path        False\nCaptionNums       False\ndtype: bool"
     },
     "metadata": {},
     "output_type": "execute_result",
     "execution_count": 9
    }
   ],
   "source": [
    "MSVDCaption.dropna(axis=0,inplace=True)\n",
    "MSVDCaption.isnull().any()"
   ]
  },
  {
   "cell_type": "code",
   "execution_count": 10,
   "metadata": {
    "pycharm": {
     "is_executing": false
    }
   },
   "outputs": [
    {
     "data": {
      "text/plain": "       VideoID  Start  End  WorkerID Source  AnnotationTime Language  \\\n0  mv89psg6zh4     33   46    682611  clean              66  English   \n1  mv89psg6zh4     33   46    760882  clean              16  English   \n2  mv89psg6zh4     33   46    878566  clean              76  English   \n3  mv89psg6zh4     33   46    707318  clean              14  English   \n4  mv89psg6zh4     33   46    135621  clean              58  English   \n\n                                         Description             Video_path  \\\n0  A bird in a sink keeps getting under the runni...  mv89psg6zh4_33_46.avi   \n1                       A bird is bathing in a sink.  mv89psg6zh4_33_46.avi   \n2  A bird is splashing around under a running fau...  mv89psg6zh4_33_46.avi   \n3                       A bird is bathing in a sink.  mv89psg6zh4_33_46.avi   \n4  A bird is standing in a sink drinking water th...  mv89psg6zh4_33_46.avi   \n\n   CaptionNums  \n0           29  \n1           29  \n2           29  \n3           29  \n4           29  ",
      "text/html": "<div>\n<style scoped>\n    .dataframe tbody tr th:only-of-type {\n        vertical-align: middle;\n    }\n\n    .dataframe tbody tr th {\n        vertical-align: top;\n    }\n\n    .dataframe thead th {\n        text-align: right;\n    }\n</style>\n<table border=\"1\" class=\"dataframe\">\n  <thead>\n    <tr style=\"text-align: right;\">\n      <th></th>\n      <th>VideoID</th>\n      <th>Start</th>\n      <th>End</th>\n      <th>WorkerID</th>\n      <th>Source</th>\n      <th>AnnotationTime</th>\n      <th>Language</th>\n      <th>Description</th>\n      <th>Video_path</th>\n      <th>CaptionNums</th>\n    </tr>\n  </thead>\n  <tbody>\n    <tr>\n      <th>0</th>\n      <td>mv89psg6zh4</td>\n      <td>33</td>\n      <td>46</td>\n      <td>682611</td>\n      <td>clean</td>\n      <td>66</td>\n      <td>English</td>\n      <td>A bird in a sink keeps getting under the runni...</td>\n      <td>mv89psg6zh4_33_46.avi</td>\n      <td>29</td>\n    </tr>\n    <tr>\n      <th>1</th>\n      <td>mv89psg6zh4</td>\n      <td>33</td>\n      <td>46</td>\n      <td>760882</td>\n      <td>clean</td>\n      <td>16</td>\n      <td>English</td>\n      <td>A bird is bathing in a sink.</td>\n      <td>mv89psg6zh4_33_46.avi</td>\n      <td>29</td>\n    </tr>\n    <tr>\n      <th>2</th>\n      <td>mv89psg6zh4</td>\n      <td>33</td>\n      <td>46</td>\n      <td>878566</td>\n      <td>clean</td>\n      <td>76</td>\n      <td>English</td>\n      <td>A bird is splashing around under a running fau...</td>\n      <td>mv89psg6zh4_33_46.avi</td>\n      <td>29</td>\n    </tr>\n    <tr>\n      <th>3</th>\n      <td>mv89psg6zh4</td>\n      <td>33</td>\n      <td>46</td>\n      <td>707318</td>\n      <td>clean</td>\n      <td>14</td>\n      <td>English</td>\n      <td>A bird is bathing in a sink.</td>\n      <td>mv89psg6zh4_33_46.avi</td>\n      <td>29</td>\n    </tr>\n    <tr>\n      <th>4</th>\n      <td>mv89psg6zh4</td>\n      <td>33</td>\n      <td>46</td>\n      <td>135621</td>\n      <td>clean</td>\n      <td>58</td>\n      <td>English</td>\n      <td>A bird is standing in a sink drinking water th...</td>\n      <td>mv89psg6zh4_33_46.avi</td>\n      <td>29</td>\n    </tr>\n  </tbody>\n</table>\n</div>"
     },
     "metadata": {},
     "output_type": "execute_result",
     "execution_count": 10
    }
   ],
   "source": [
    "MSVDCaption.head()"
   ]
  },
  {
   "cell_type": "markdown",
   "metadata": {},
   "source": [
    "# 为每个视频添加完整路径"
   ]
  },
  {
   "cell_type": "code",
   "execution_count": 11,
   "metadata": {
    "pycharm": {
     "is_executing": false
    }
   },
   "outputs": [],
   "source": [
    "Video_path='F:\\\\DataSets\\\\VideoCaption\\\\MSVD\\\\YouTubeClips'\n",
    "import os"
   ]
  },
  {
   "cell_type": "code",
   "execution_count": 12,
   "metadata": {
    "pycharm": {
     "is_executing": false
    }
   },
   "outputs": [
    {
     "data": {
      "text/plain": "       VideoID  Start  End  WorkerID Source  AnnotationTime Language  \\\n0  mv89psg6zh4     33   46    682611  clean              66  English   \n1  mv89psg6zh4     33   46    760882  clean              16  English   \n2  mv89psg6zh4     33   46    878566  clean              76  English   \n3  mv89psg6zh4     33   46    707318  clean              14  English   \n4  mv89psg6zh4     33   46    135621  clean              58  English   \n\n                                         Description  \\\n0  A bird in a sink keeps getting under the runni...   \n1                       A bird is bathing in a sink.   \n2  A bird is splashing around under a running fau...   \n3                       A bird is bathing in a sink.   \n4  A bird is standing in a sink drinking water th...   \n\n                                          Video_path  CaptionNums  \n0  F:\\DataSets\\VideoCaption\\MSVD\\YouTubeClips\\mv8...           29  \n1  F:\\DataSets\\VideoCaption\\MSVD\\YouTubeClips\\mv8...           29  \n2  F:\\DataSets\\VideoCaption\\MSVD\\YouTubeClips\\mv8...           29  \n3  F:\\DataSets\\VideoCaption\\MSVD\\YouTubeClips\\mv8...           29  \n4  F:\\DataSets\\VideoCaption\\MSVD\\YouTubeClips\\mv8...           29  ",
      "text/html": "<div>\n<style scoped>\n    .dataframe tbody tr th:only-of-type {\n        vertical-align: middle;\n    }\n\n    .dataframe tbody tr th {\n        vertical-align: top;\n    }\n\n    .dataframe thead th {\n        text-align: right;\n    }\n</style>\n<table border=\"1\" class=\"dataframe\">\n  <thead>\n    <tr style=\"text-align: right;\">\n      <th></th>\n      <th>VideoID</th>\n      <th>Start</th>\n      <th>End</th>\n      <th>WorkerID</th>\n      <th>Source</th>\n      <th>AnnotationTime</th>\n      <th>Language</th>\n      <th>Description</th>\n      <th>Video_path</th>\n      <th>CaptionNums</th>\n    </tr>\n  </thead>\n  <tbody>\n    <tr>\n      <th>0</th>\n      <td>mv89psg6zh4</td>\n      <td>33</td>\n      <td>46</td>\n      <td>682611</td>\n      <td>clean</td>\n      <td>66</td>\n      <td>English</td>\n      <td>A bird in a sink keeps getting under the runni...</td>\n      <td>F:\\DataSets\\VideoCaption\\MSVD\\YouTubeClips\\mv8...</td>\n      <td>29</td>\n    </tr>\n    <tr>\n      <th>1</th>\n      <td>mv89psg6zh4</td>\n      <td>33</td>\n      <td>46</td>\n      <td>760882</td>\n      <td>clean</td>\n      <td>16</td>\n      <td>English</td>\n      <td>A bird is bathing in a sink.</td>\n      <td>F:\\DataSets\\VideoCaption\\MSVD\\YouTubeClips\\mv8...</td>\n      <td>29</td>\n    </tr>\n    <tr>\n      <th>2</th>\n      <td>mv89psg6zh4</td>\n      <td>33</td>\n      <td>46</td>\n      <td>878566</td>\n      <td>clean</td>\n      <td>76</td>\n      <td>English</td>\n      <td>A bird is splashing around under a running fau...</td>\n      <td>F:\\DataSets\\VideoCaption\\MSVD\\YouTubeClips\\mv8...</td>\n      <td>29</td>\n    </tr>\n    <tr>\n      <th>3</th>\n      <td>mv89psg6zh4</td>\n      <td>33</td>\n      <td>46</td>\n      <td>707318</td>\n      <td>clean</td>\n      <td>14</td>\n      <td>English</td>\n      <td>A bird is bathing in a sink.</td>\n      <td>F:\\DataSets\\VideoCaption\\MSVD\\YouTubeClips\\mv8...</td>\n      <td>29</td>\n    </tr>\n    <tr>\n      <th>4</th>\n      <td>mv89psg6zh4</td>\n      <td>33</td>\n      <td>46</td>\n      <td>135621</td>\n      <td>clean</td>\n      <td>58</td>\n      <td>English</td>\n      <td>A bird is standing in a sink drinking water th...</td>\n      <td>F:\\DataSets\\VideoCaption\\MSVD\\YouTubeClips\\mv8...</td>\n      <td>29</td>\n    </tr>\n  </tbody>\n</table>\n</div>"
     },
     "metadata": {},
     "output_type": "execute_result",
     "execution_count": 12
    }
   ],
   "source": [
    "MSVDCaption['Video_path']=MSVDCaption['Video_path'].apply(lambda x: os.path.join(Video_path,x))\n",
    "MSVDCaption.head()"
   ]
  },
  {
   "cell_type": "code",
   "execution_count": 13,
   "metadata": {
    "pycharm": {
     "is_executing": false
    }
   },
   "outputs": [
    {
     "data": {
      "text/plain": "1587"
     },
     "metadata": {},
     "output_type": "execute_result",
     "execution_count": 13
    }
   ],
   "source": [
    "len(MSVDCaption['VideoID'].unique())"
   ]
  },
  {
   "cell_type": "markdown",
   "metadata": {},
   "source": [
    "# 添加一列判断视频是否存在"
   ]
  },
  {
   "cell_type": "code",
   "execution_count": 14,
   "metadata": {
    "pycharm": {
     "is_executing": false
    }
   },
   "outputs": [
    {
     "data": {
      "text/plain": "       VideoID  Start  End  WorkerID Source  AnnotationTime Language  \\\n0  mv89psg6zh4     33   46    682611  clean              66  English   \n1  mv89psg6zh4     33   46    760882  clean              16  English   \n2  mv89psg6zh4     33   46    878566  clean              76  English   \n3  mv89psg6zh4     33   46    707318  clean              14  English   \n4  mv89psg6zh4     33   46    135621  clean              58  English   \n\n                                         Description  \\\n0  A bird in a sink keeps getting under the runni...   \n1                       A bird is bathing in a sink.   \n2  A bird is splashing around under a running fau...   \n3                       A bird is bathing in a sink.   \n4  A bird is standing in a sink drinking water th...   \n\n                                          Video_path  CaptionNums  Have  \n0  F:\\DataSets\\VideoCaption\\MSVD\\YouTubeClips\\mv8...           29  True  \n1  F:\\DataSets\\VideoCaption\\MSVD\\YouTubeClips\\mv8...           29  True  \n2  F:\\DataSets\\VideoCaption\\MSVD\\YouTubeClips\\mv8...           29  True  \n3  F:\\DataSets\\VideoCaption\\MSVD\\YouTubeClips\\mv8...           29  True  \n4  F:\\DataSets\\VideoCaption\\MSVD\\YouTubeClips\\mv8...           29  True  ",
      "text/html": "<div>\n<style scoped>\n    .dataframe tbody tr th:only-of-type {\n        vertical-align: middle;\n    }\n\n    .dataframe tbody tr th {\n        vertical-align: top;\n    }\n\n    .dataframe thead th {\n        text-align: right;\n    }\n</style>\n<table border=\"1\" class=\"dataframe\">\n  <thead>\n    <tr style=\"text-align: right;\">\n      <th></th>\n      <th>VideoID</th>\n      <th>Start</th>\n      <th>End</th>\n      <th>WorkerID</th>\n      <th>Source</th>\n      <th>AnnotationTime</th>\n      <th>Language</th>\n      <th>Description</th>\n      <th>Video_path</th>\n      <th>CaptionNums</th>\n      <th>Have</th>\n    </tr>\n  </thead>\n  <tbody>\n    <tr>\n      <th>0</th>\n      <td>mv89psg6zh4</td>\n      <td>33</td>\n      <td>46</td>\n      <td>682611</td>\n      <td>clean</td>\n      <td>66</td>\n      <td>English</td>\n      <td>A bird in a sink keeps getting under the runni...</td>\n      <td>F:\\DataSets\\VideoCaption\\MSVD\\YouTubeClips\\mv8...</td>\n      <td>29</td>\n      <td>True</td>\n    </tr>\n    <tr>\n      <th>1</th>\n      <td>mv89psg6zh4</td>\n      <td>33</td>\n      <td>46</td>\n      <td>760882</td>\n      <td>clean</td>\n      <td>16</td>\n      <td>English</td>\n      <td>A bird is bathing in a sink.</td>\n      <td>F:\\DataSets\\VideoCaption\\MSVD\\YouTubeClips\\mv8...</td>\n      <td>29</td>\n      <td>True</td>\n    </tr>\n    <tr>\n      <th>2</th>\n      <td>mv89psg6zh4</td>\n      <td>33</td>\n      <td>46</td>\n      <td>878566</td>\n      <td>clean</td>\n      <td>76</td>\n      <td>English</td>\n      <td>A bird is splashing around under a running fau...</td>\n      <td>F:\\DataSets\\VideoCaption\\MSVD\\YouTubeClips\\mv8...</td>\n      <td>29</td>\n      <td>True</td>\n    </tr>\n    <tr>\n      <th>3</th>\n      <td>mv89psg6zh4</td>\n      <td>33</td>\n      <td>46</td>\n      <td>707318</td>\n      <td>clean</td>\n      <td>14</td>\n      <td>English</td>\n      <td>A bird is bathing in a sink.</td>\n      <td>F:\\DataSets\\VideoCaption\\MSVD\\YouTubeClips\\mv8...</td>\n      <td>29</td>\n      <td>True</td>\n    </tr>\n    <tr>\n      <th>4</th>\n      <td>mv89psg6zh4</td>\n      <td>33</td>\n      <td>46</td>\n      <td>135621</td>\n      <td>clean</td>\n      <td>58</td>\n      <td>English</td>\n      <td>A bird is standing in a sink drinking water th...</td>\n      <td>F:\\DataSets\\VideoCaption\\MSVD\\YouTubeClips\\mv8...</td>\n      <td>29</td>\n      <td>True</td>\n    </tr>\n  </tbody>\n</table>\n</div>"
     },
     "metadata": {},
     "output_type": "execute_result",
     "execution_count": 14
    }
   ],
   "source": [
    "MSVDCaption['Have']=MSVDCaption['Video_path'].apply(lambda x: os.path.exists(x))\n",
    "MSVDCaption.head()"
   ]
  },
  {
   "cell_type": "markdown",
   "metadata": {},
   "source": [
    "# 只获取存在的视频"
   ]
  },
  {
   "cell_type": "code",
   "execution_count": 15,
   "metadata": {
    "pycharm": {
     "is_executing": false
    }
   },
   "outputs": [
    {
     "data": {
      "text/plain": "       VideoID  Start  End  WorkerID Source  AnnotationTime Language  \\\n0  mv89psg6zh4     33   46    682611  clean              66  English   \n1  mv89psg6zh4     33   46    760882  clean              16  English   \n2  mv89psg6zh4     33   46    878566  clean              76  English   \n3  mv89psg6zh4     33   46    707318  clean              14  English   \n4  mv89psg6zh4     33   46    135621  clean              58  English   \n\n                                         Description  \\\n0  A bird in a sink keeps getting under the runni...   \n1                       A bird is bathing in a sink.   \n2  A bird is splashing around under a running fau...   \n3                       A bird is bathing in a sink.   \n4  A bird is standing in a sink drinking water th...   \n\n                                          Video_path  CaptionNums  Have  \n0  F:\\DataSets\\VideoCaption\\MSVD\\YouTubeClips\\mv8...           29  True  \n1  F:\\DataSets\\VideoCaption\\MSVD\\YouTubeClips\\mv8...           29  True  \n2  F:\\DataSets\\VideoCaption\\MSVD\\YouTubeClips\\mv8...           29  True  \n3  F:\\DataSets\\VideoCaption\\MSVD\\YouTubeClips\\mv8...           29  True  \n4  F:\\DataSets\\VideoCaption\\MSVD\\YouTubeClips\\mv8...           29  True  ",
      "text/html": "<div>\n<style scoped>\n    .dataframe tbody tr th:only-of-type {\n        vertical-align: middle;\n    }\n\n    .dataframe tbody tr th {\n        vertical-align: top;\n    }\n\n    .dataframe thead th {\n        text-align: right;\n    }\n</style>\n<table border=\"1\" class=\"dataframe\">\n  <thead>\n    <tr style=\"text-align: right;\">\n      <th></th>\n      <th>VideoID</th>\n      <th>Start</th>\n      <th>End</th>\n      <th>WorkerID</th>\n      <th>Source</th>\n      <th>AnnotationTime</th>\n      <th>Language</th>\n      <th>Description</th>\n      <th>Video_path</th>\n      <th>CaptionNums</th>\n      <th>Have</th>\n    </tr>\n  </thead>\n  <tbody>\n    <tr>\n      <th>0</th>\n      <td>mv89psg6zh4</td>\n      <td>33</td>\n      <td>46</td>\n      <td>682611</td>\n      <td>clean</td>\n      <td>66</td>\n      <td>English</td>\n      <td>A bird in a sink keeps getting under the runni...</td>\n      <td>F:\\DataSets\\VideoCaption\\MSVD\\YouTubeClips\\mv8...</td>\n      <td>29</td>\n      <td>True</td>\n    </tr>\n    <tr>\n      <th>1</th>\n      <td>mv89psg6zh4</td>\n      <td>33</td>\n      <td>46</td>\n      <td>760882</td>\n      <td>clean</td>\n      <td>16</td>\n      <td>English</td>\n      <td>A bird is bathing in a sink.</td>\n      <td>F:\\DataSets\\VideoCaption\\MSVD\\YouTubeClips\\mv8...</td>\n      <td>29</td>\n      <td>True</td>\n    </tr>\n    <tr>\n      <th>2</th>\n      <td>mv89psg6zh4</td>\n      <td>33</td>\n      <td>46</td>\n      <td>878566</td>\n      <td>clean</td>\n      <td>76</td>\n      <td>English</td>\n      <td>A bird is splashing around under a running fau...</td>\n      <td>F:\\DataSets\\VideoCaption\\MSVD\\YouTubeClips\\mv8...</td>\n      <td>29</td>\n      <td>True</td>\n    </tr>\n    <tr>\n      <th>3</th>\n      <td>mv89psg6zh4</td>\n      <td>33</td>\n      <td>46</td>\n      <td>707318</td>\n      <td>clean</td>\n      <td>14</td>\n      <td>English</td>\n      <td>A bird is bathing in a sink.</td>\n      <td>F:\\DataSets\\VideoCaption\\MSVD\\YouTubeClips\\mv8...</td>\n      <td>29</td>\n      <td>True</td>\n    </tr>\n    <tr>\n      <th>4</th>\n      <td>mv89psg6zh4</td>\n      <td>33</td>\n      <td>46</td>\n      <td>135621</td>\n      <td>clean</td>\n      <td>58</td>\n      <td>English</td>\n      <td>A bird is standing in a sink drinking water th...</td>\n      <td>F:\\DataSets\\VideoCaption\\MSVD\\YouTubeClips\\mv8...</td>\n      <td>29</td>\n      <td>True</td>\n    </tr>\n  </tbody>\n</table>\n</div>"
     },
     "metadata": {},
     "output_type": "execute_result",
     "execution_count": 15
    }
   ],
   "source": [
    "MSVDCaption=MSVDCaption[MSVDCaption['Have']]\n",
    "MSVDCaption.head()"
   ]
  },
  {
   "cell_type": "code",
   "execution_count": 16,
   "metadata": {
    "pycharm": {
     "is_executing": false
    }
   },
   "outputs": [
    {
     "data": {
      "text/plain": "1491"
     },
     "metadata": {},
     "output_type": "execute_result",
     "execution_count": 16
    }
   ],
   "source": [
    "len(MSVDCaption['VideoID'].unique())"
   ]
  },
  {
   "cell_type": "markdown",
   "metadata": {},
   "source": [
    "# 只选择描述为str类型的数据"
   ]
  },
  {
   "cell_type": "code",
   "execution_count": 17,
   "metadata": {
    "pycharm": {
     "is_executing": false
    }
   },
   "outputs": [
    {
     "data": {
      "text/plain": "       VideoID  Start  End  WorkerID Source  AnnotationTime Language  \\\n0  mv89psg6zh4     33   46    682611  clean              66  English   \n1  mv89psg6zh4     33   46    760882  clean              16  English   \n2  mv89psg6zh4     33   46    878566  clean              76  English   \n3  mv89psg6zh4     33   46    707318  clean              14  English   \n4  mv89psg6zh4     33   46    135621  clean              58  English   \n\n                                         Description  \\\n0  A bird in a sink keeps getting under the runni...   \n1                       A bird is bathing in a sink.   \n2  A bird is splashing around under a running fau...   \n3                       A bird is bathing in a sink.   \n4  A bird is standing in a sink drinking water th...   \n\n                                          Video_path  CaptionNums  Have  \n0  F:\\DataSets\\VideoCaption\\MSVD\\YouTubeClips\\mv8...           29  True  \n1  F:\\DataSets\\VideoCaption\\MSVD\\YouTubeClips\\mv8...           29  True  \n2  F:\\DataSets\\VideoCaption\\MSVD\\YouTubeClips\\mv8...           29  True  \n3  F:\\DataSets\\VideoCaption\\MSVD\\YouTubeClips\\mv8...           29  True  \n4  F:\\DataSets\\VideoCaption\\MSVD\\YouTubeClips\\mv8...           29  True  ",
      "text/html": "<div>\n<style scoped>\n    .dataframe tbody tr th:only-of-type {\n        vertical-align: middle;\n    }\n\n    .dataframe tbody tr th {\n        vertical-align: top;\n    }\n\n    .dataframe thead th {\n        text-align: right;\n    }\n</style>\n<table border=\"1\" class=\"dataframe\">\n  <thead>\n    <tr style=\"text-align: right;\">\n      <th></th>\n      <th>VideoID</th>\n      <th>Start</th>\n      <th>End</th>\n      <th>WorkerID</th>\n      <th>Source</th>\n      <th>AnnotationTime</th>\n      <th>Language</th>\n      <th>Description</th>\n      <th>Video_path</th>\n      <th>CaptionNums</th>\n      <th>Have</th>\n    </tr>\n  </thead>\n  <tbody>\n    <tr>\n      <th>0</th>\n      <td>mv89psg6zh4</td>\n      <td>33</td>\n      <td>46</td>\n      <td>682611</td>\n      <td>clean</td>\n      <td>66</td>\n      <td>English</td>\n      <td>A bird in a sink keeps getting under the runni...</td>\n      <td>F:\\DataSets\\VideoCaption\\MSVD\\YouTubeClips\\mv8...</td>\n      <td>29</td>\n      <td>True</td>\n    </tr>\n    <tr>\n      <th>1</th>\n      <td>mv89psg6zh4</td>\n      <td>33</td>\n      <td>46</td>\n      <td>760882</td>\n      <td>clean</td>\n      <td>16</td>\n      <td>English</td>\n      <td>A bird is bathing in a sink.</td>\n      <td>F:\\DataSets\\VideoCaption\\MSVD\\YouTubeClips\\mv8...</td>\n      <td>29</td>\n      <td>True</td>\n    </tr>\n    <tr>\n      <th>2</th>\n      <td>mv89psg6zh4</td>\n      <td>33</td>\n      <td>46</td>\n      <td>878566</td>\n      <td>clean</td>\n      <td>76</td>\n      <td>English</td>\n      <td>A bird is splashing around under a running fau...</td>\n      <td>F:\\DataSets\\VideoCaption\\MSVD\\YouTubeClips\\mv8...</td>\n      <td>29</td>\n      <td>True</td>\n    </tr>\n    <tr>\n      <th>3</th>\n      <td>mv89psg6zh4</td>\n      <td>33</td>\n      <td>46</td>\n      <td>707318</td>\n      <td>clean</td>\n      <td>14</td>\n      <td>English</td>\n      <td>A bird is bathing in a sink.</td>\n      <td>F:\\DataSets\\VideoCaption\\MSVD\\YouTubeClips\\mv8...</td>\n      <td>29</td>\n      <td>True</td>\n    </tr>\n    <tr>\n      <th>4</th>\n      <td>mv89psg6zh4</td>\n      <td>33</td>\n      <td>46</td>\n      <td>135621</td>\n      <td>clean</td>\n      <td>58</td>\n      <td>English</td>\n      <td>A bird is standing in a sink drinking water th...</td>\n      <td>F:\\DataSets\\VideoCaption\\MSVD\\YouTubeClips\\mv8...</td>\n      <td>29</td>\n      <td>True</td>\n    </tr>\n  </tbody>\n</table>\n</div>"
     },
     "metadata": {},
     "output_type": "execute_result",
     "execution_count": 17
    }
   ],
   "source": [
    "MSVDCaption=MSVDCaption[MSVDCaption['Description'].apply(lambda x : isinstance(x,str))]\n",
    "MSVDCaption.head()"
   ]
  },
  {
   "cell_type": "code",
   "execution_count": 18,
   "metadata": {
    "pycharm": {
     "is_executing": false
    }
   },
   "outputs": [
    {
     "data": {
      "text/plain": "1491"
     },
     "metadata": {},
     "output_type": "execute_result",
     "execution_count": 18
    }
   ],
   "source": [
    "len(MSVDCaption['VideoID'].unique())"
   ]
  },
  {
   "cell_type": "markdown",
   "metadata": {},
   "source": [
    "# 获取所有描述"
   ]
  },
  {
   "cell_type": "code",
   "execution_count": 19,
   "metadata": {
    "pycharm": {
     "is_executing": false
    }
   },
   "outputs": [],
   "source": [
    "TrainCaptions=MSVDCaption['Description'].values"
   ]
  },
  {
   "cell_type": "code",
   "execution_count": 20,
   "metadata": {
    "pycharm": {
     "is_executing": false
    }
   },
   "outputs": [
    {
     "data": {
      "text/plain": "(80838,\n array(['A bird in a sink keeps getting under the running water from a faucet.',\n        'A bird is bathing in a sink.',\n        'A bird is splashing around under a running faucet.',\n        'A bird is bathing in a sink.',\n        'A bird is standing in a sink drinking water that is pouring out of the facet.'],\n       dtype=object))"
     },
     "metadata": {},
     "output_type": "execute_result",
     "execution_count": 20
    }
   ],
   "source": [
    "len(TrainCaptions),TrainCaptions[:5]"
   ]
  },
  {
   "cell_type": "markdown",
   "metadata": {},
   "source": [
    "# 删除描述中无用的字符"
   ]
  },
  {
   "cell_type": "code",
   "execution_count": 21,
   "metadata": {
    "pycharm": {
     "is_executing": false
    }
   },
   "outputs": [],
   "source": [
    "def replace_map(str_array):\n",
    "    str_array=map(lambda x: x.replace('.',''),str_array)\n",
    "    str_array=map(lambda x: x.replace('/',''),str_array)\n",
    "    str_array=map(lambda x: x.replace('?',''),str_array)\n",
    "    str_array=map(lambda x: x.replace(',',''),str_array)\n",
    "    str_array=map(lambda x: x.replace(':',''),str_array)\n",
    "    str_array=map(lambda x: x.replace('\"',''),str_array)\n",
    "    str_array=map(lambda x: x.replace('!',''),str_array)\n",
    "    str_array=map(lambda x: x.replace('\\\\',''),str_array)\n",
    "    str_array=map(lambda x: x.replace('\\n',''),str_array)\n",
    "    return str_array"
   ]
  },
  {
   "cell_type": "code",
   "execution_count": 22,
   "metadata": {
    "pycharm": {
     "is_executing": false
    }
   },
   "outputs": [
    {
     "data": {
      "text/plain": "<map at 0x1c50fd8bba8>"
     },
     "metadata": {},
     "output_type": "execute_result",
     "execution_count": 22
    }
   ],
   "source": [
    "#TrainCaptions=np.asarray(TrainCaptions,dtype=np.object)\n",
    "str_array=replace_map(TrainCaptions)\n",
    "str_array"
   ]
  },
  {
   "cell_type": "code",
   "execution_count": 23,
   "metadata": {
    "pycharm": {
     "is_executing": false
    }
   },
   "outputs": [
    {
     "data": {
      "text/plain": "('A bird in a sink keeps getting under the running water from a faucet',\n 'A bird is bathing in a sink')"
     },
     "metadata": {},
     "output_type": "execute_result",
     "execution_count": 23
    }
   ],
   "source": [
    "next(str_array),next(str_array)"
   ]
  },
  {
   "cell_type": "code",
   "execution_count": 24,
   "metadata": {
    "pycharm": {
     "is_executing": false
    }
   },
   "outputs": [],
   "source": [
    "import cv2\n",
    "import time"
   ]
  },
  {
   "cell_type": "code",
   "execution_count": 25,
   "metadata": {
    "pycharm": {
     "is_executing": false
    }
   },
   "outputs": [
    {
     "traceback": [
      "\u001b[1;31m---------------------------------------------------------------------------\u001b[0m",
      "\u001b[1;31mNameError\u001b[0m                                 Traceback (most recent call last)",
      "\u001b[1;32m<ipython-input-25-ede96a6ba526>\u001b[0m in \u001b[0;36m<module>\u001b[1;34m\u001b[0m\n\u001b[1;32m----> 1\u001b[1;33m \u001b[0midx\u001b[0m\u001b[1;33m=\u001b[0m\u001b[0mnp\u001b[0m\u001b[1;33m.\u001b[0m\u001b[0mrandom\u001b[0m\u001b[1;33m.\u001b[0m\u001b[0mrandint\u001b[0m\u001b[1;33m(\u001b[0m\u001b[1;36m0\u001b[0m\u001b[1;33m,\u001b[0m\u001b[0mlen\u001b[0m\u001b[1;33m(\u001b[0m\u001b[0mMSVDCaption\u001b[0m\u001b[1;33m)\u001b[0m\u001b[1;33m)\u001b[0m\u001b[1;33m\u001b[0m\u001b[1;33m\u001b[0m\u001b[0m\n\u001b[0m\u001b[0;32m      2\u001b[0m \u001b[0mpath\u001b[0m\u001b[1;33m=\u001b[0m\u001b[0mMSVDCaption\u001b[0m\u001b[1;33m.\u001b[0m\u001b[0miloc\u001b[0m\u001b[1;33m[\u001b[0m\u001b[0midx\u001b[0m\u001b[1;33m,\u001b[0m\u001b[1;36m8\u001b[0m\u001b[1;33m]\u001b[0m\u001b[1;33m\u001b[0m\u001b[1;33m\u001b[0m\u001b[0m\n\u001b[0;32m      3\u001b[0m \u001b[0mcaption\u001b[0m\u001b[1;33m=\u001b[0m\u001b[0mMSVDCaption\u001b[0m\u001b[1;33m.\u001b[0m\u001b[0miloc\u001b[0m\u001b[1;33m[\u001b[0m\u001b[0midx\u001b[0m\u001b[1;33m,\u001b[0m\u001b[1;36m7\u001b[0m\u001b[1;33m]\u001b[0m\u001b[1;33m\u001b[0m\u001b[1;33m\u001b[0m\u001b[0m\n\u001b[0;32m      4\u001b[0m \u001b[0mpath\u001b[0m\u001b[1;33m,\u001b[0m\u001b[0mcaption\u001b[0m\u001b[1;33m\u001b[0m\u001b[1;33m\u001b[0m\u001b[0m\n\u001b[0;32m      5\u001b[0m \u001b[1;33m\u001b[0m\u001b[0m\n",
      "\u001b[1;31mNameError\u001b[0m: name 'np' is not defined"
     ],
     "ename": "NameError",
     "evalue": "name 'np' is not defined",
     "output_type": "error"
    }
   ],
   "source": [
    "idx=np.random.randint(0,len(MSVDCaption))\n",
    "path=MSVDCaption.iloc[idx,8]\n",
    "caption=MSVDCaption.iloc[idx,7]\n",
    "path,caption"
   ]
  },
  {
   "cell_type": "code",
   "execution_count": null,
   "metadata": {
    "pycharm": {
     "is_executing": false
    }
   },
   "outputs": [],
   "source": [
    "# cap =cv2.VideoCapture(path)\n",
    "# while(cap.isOpened()):\n",
    "#     ret, frame = cap.read()\n",
    "#     frame=cv2.putText(frame,caption,(100,100),1,1.,(0,0,255))\n",
    "#     #gray = cv2.cvtColor(frame, cv2.COLOR_BGR2GRAY)\n",
    "#     cv2.imshow('frame',frame)\n",
    "#     cv2.waitKey(500)\n",
    "\n",
    "# cap.release()\n",
    "# cv2.destroyAllWindows()"
   ]
  },
  {
   "cell_type": "code",
   "execution_count": null,
   "metadata": {
    "pycharm": {
     "is_executing": false
    }
   },
   "outputs": [],
   "source": [
    "import tensorflow as tf\n",
    "tf.__version__"
   ]
  },
  {
   "cell_type": "markdown",
   "metadata": {},
   "source": [
    "# 构建词汇字典类"
   ]
  },
  {
   "cell_type": "code",
   "execution_count": null,
   "metadata": {
    "pycharm": {
     "is_executing": false
    }
   },
   "outputs": [],
   "source": [
    "class Vocabs:\n",
    "    def __init__(docs,min_count_threshold=5):\n",
    "        self.min_count_threshold=min_count_threshold\n",
    "        self.word2idx={}\n",
    "        self.idx2word={}\n",
    "        self.n_words=0\n",
    "        self.all_words=[]\n",
    "        self.count_per_word={}\n",
    "    \n",
    "    def _create_vcab(self,docs):\n",
    "        for caption in docs:\n",
    "            for w in caption:\n",
    "                self.count_per_word[w]=self.count_per_word.get(w,0)+1\n",
    "                \n",
    "        for w in self.count_per_word:\n",
    "            if self.count_per_word[w]<self.min_count_threshold:\n",
    "                del self.count_per_word[w]\n",
    "        \n",
    "        "
   ]
  }
 ],
 "metadata": {
  "kernelspec": {
   "display_name": "Python 3",
   "language": "python",
   "name": "python3"
  },
  "language_info": {
   "codemirror_mode": {
    "name": "ipython",
    "version": 3
   },
   "file_extension": ".py",
   "mimetype": "text/x-python",
   "name": "python",
   "nbconvert_exporter": "python",
   "pygments_lexer": "ipython3",
   "version": "3.7.3"
  }
 },
 "nbformat": 4,
 "nbformat_minor": 4
}